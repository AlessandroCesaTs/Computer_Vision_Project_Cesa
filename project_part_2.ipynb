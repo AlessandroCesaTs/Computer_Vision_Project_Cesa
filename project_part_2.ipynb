{
 "cells": [
  {
   "cell_type": "code",
   "execution_count": 1,
   "id": "0796920c-a1bb-4501-b240-8e44a8d45166",
   "metadata": {},
   "outputs": [],
   "source": [
    "import torch.optim as optim\n",
    "from torch.utils.data import DataLoader,ConcatDataset\n",
    "from torchvision.datasets import ImageFolder"
   ]
  },
  {
   "cell_type": "code",
   "execution_count": 2,
   "id": "5579fa6a-336a-426c-a598-a5d90f1056a2",
   "metadata": {},
   "outputs": [],
   "source": [
    "#Adjust according to your path\n",
    "import sys\n",
    "sys.path.append('/orfeo/cephfs/home/dssc/acesa000/Computer_Vision_Project_Cesa/functions') #Adjust according to your path\n",
    "\n",
    "from image_handling_functions import *\n",
    "from train_test_functions import *\n",
    "from neural_networks import *"
   ]
  },
  {
   "cell_type": "code",
   "execution_count": 3,
   "id": "b2bb0218-ab66-4f0e-b213-bbd9b0435fe1",
   "metadata": {},
   "outputs": [],
   "source": [
    "%%capture \n",
    "#Run if you don't already have the dataset\n",
    "\"\"\"\n",
    "!git clone https://github.com/AlessandroCesaTs/Computer_Vision_Project_Cesa.git\n",
    "\"\"\""
   ]
  },
  {
   "cell_type": "code",
   "execution_count": 4,
   "id": "3532b832-36d3-47ac-97a8-304ae1c6e723",
   "metadata": {},
   "outputs": [],
   "source": [
    "#Adjust according to your path\n",
    "train_path = \"/orfeo/cephfs/home/dssc/acesa000/Computer_Vision_Project_Cesa/CVPR2023_project_2_and_3_data/train\"\n",
    "test_path = \"/orfeo/cephfs/home/dssc/acesa000/Computer_Vision_Project_Cesa/CVPR2023_project_2_and_3_data/test\""
   ]
  },
  {
   "cell_type": "code",
   "execution_count": 5,
   "id": "ca280144-f1a9-4eba-abd5-fe61c4f9f471",
   "metadata": {},
   "outputs": [],
   "source": [
    "device = get_default_device()"
   ]
  },
  {
   "cell_type": "code",
   "execution_count": 6,
   "id": "23e576e1-bb74-490d-bf2a-ef284616bd88",
   "metadata": {},
   "outputs": [],
   "source": [
    "np.random.seed(123)\n",
    "torch.manual_seed(123)\n",
    "torch.backends.cudnn.deterministic = True\n",
    "torch.backends.cudnn.benchmark = False\n",
    "if device.type == 'cuda':\n",
    "    torch.cuda.empty_cache()\n"
   ]
  },
  {
   "cell_type": "code",
   "execution_count": 7,
   "id": "83cf613a-4d2c-43b3-bc4e-bdb6441a8443",
   "metadata": {},
   "outputs": [],
   "source": [
    "train=ImageFolder(root=train_path,transform=resize_transformation)\n",
    "test=ImageFolder(root=test_path,transform=resize_transformation)"
   ]
  },
  {
   "cell_type": "code",
   "execution_count": 8,
   "id": "edb89888-a22a-4458-89c2-2ae292a3e9f8",
   "metadata": {},
   "outputs": [],
   "source": [
    "#split training set into training and validation\n",
    "train_size=int(0.85*len(train))\n",
    "validation_size=len(train)-train_size\n",
    "training_set,validation_set=torch.utils.data.random_split(train,[train_size,validation_size])"
   ]
  },
  {
   "cell_type": "code",
   "execution_count": 9,
   "id": "43a76e27-d65a-4350-a476-0c62304cad21",
   "metadata": {},
   "outputs": [],
   "source": [
    "batch_size = 32\n",
    "\n",
    "augmented_training_set=TransformedDataSet(training_set)\n",
    "concatenated_dataset = torch.utils.data.ConcatDataset([training_set, augmented_training_set])\n",
    "augmented_train_loader = DataLoader(concatenated_dataset, batch_size=batch_size,shuffle=True,pin_memory=True)\n",
    "\n",
    "validation_loader = DataLoader(validation_set, batch_size=batch_size,shuffle=False,pin_memory=True)\n",
    "test_loader = DataLoader(test, batch_size=batch_size,shuffle=False,pin_memory=True)\n",
    "\n",
    "augmented_train_loader = DeviceDataLoader(augmented_train_loader, device)\n",
    "validation_loader = DeviceDataLoader(validation_loader, device)\n",
    "test_loader = DeviceDataLoader(test_loader, device)"
   ]
  },
  {
   "cell_type": "code",
   "execution_count": 10,
   "id": "3e52c9b1-ffd1-4174-a07d-23894cea7baf",
   "metadata": {},
   "outputs": [],
   "source": [
    "%%capture\n",
    "\"\"\"\n",
    "model = CNN2()\n",
    "model.to(device)\n",
    "model.apply(init_weights)\n",
    "loss_function=nn.CrossEntropyLoss()\n",
    "optimizer=optim.SGD(model.parameters(),lr=0.01,momentum=0.9)\n",
    "\"\"\""
   ]
  },
  {
   "cell_type": "code",
   "execution_count": 11,
   "id": "fd5fdf38-412f-4bb6-a884-9c1fe6b6e592",
   "metadata": {},
   "outputs": [
    {
     "ename": "ValueError",
     "evalue": "optimizer got an empty parameter list",
     "output_type": "error",
     "traceback": [
      "\u001b[0;31m---------------------------------------------------------------------------\u001b[0m",
      "\u001b[0;31mValueError\u001b[0m                                Traceback (most recent call last)",
      "Cell \u001b[0;32mIn[11], line 5\u001b[0m\n\u001b[1;32m      3\u001b[0m model\u001b[38;5;241m.\u001b[39mapply(init_weights)\n\u001b[1;32m      4\u001b[0m loss_function\u001b[38;5;241m=\u001b[39mnn\u001b[38;5;241m.\u001b[39mCrossEntropyLoss()\n\u001b[0;32m----> 5\u001b[0m optimizer\u001b[38;5;241m=\u001b[39m\u001b[43moptim\u001b[49m\u001b[38;5;241;43m.\u001b[39;49m\u001b[43mSGD\u001b[49m\u001b[43m(\u001b[49m\u001b[43mmodel\u001b[49m\u001b[38;5;241;43m.\u001b[39;49m\u001b[43mparameters\u001b[49m\u001b[43m(\u001b[49m\u001b[43m)\u001b[49m\u001b[43m,\u001b[49m\u001b[43mlr\u001b[49m\u001b[38;5;241;43m=\u001b[39;49m\u001b[38;5;241;43m0.01\u001b[39;49m\u001b[43m,\u001b[49m\u001b[43mmomentum\u001b[49m\u001b[38;5;241;43m=\u001b[39;49m\u001b[38;5;241;43m0.9\u001b[39;49m\u001b[43m)\u001b[49m\n",
      "File \u001b[0;32m/orfeo/cephfs/home/dssc/acesa000/cv_env/lib/python3.10/site-packages/torch/optim/sgd.py:26\u001b[0m, in \u001b[0;36mSGD.__init__\u001b[0;34m(self, params, lr, momentum, dampening, weight_decay, nesterov, maximize, foreach, differentiable)\u001b[0m\n\u001b[1;32m     24\u001b[0m \u001b[38;5;28;01mif\u001b[39;00m nesterov \u001b[38;5;129;01mand\u001b[39;00m (momentum \u001b[38;5;241m<\u001b[39m\u001b[38;5;241m=\u001b[39m \u001b[38;5;241m0\u001b[39m \u001b[38;5;129;01mor\u001b[39;00m dampening \u001b[38;5;241m!=\u001b[39m \u001b[38;5;241m0\u001b[39m):\n\u001b[1;32m     25\u001b[0m     \u001b[38;5;28;01mraise\u001b[39;00m \u001b[38;5;167;01mValueError\u001b[39;00m(\u001b[38;5;124m\"\u001b[39m\u001b[38;5;124mNesterov momentum requires a momentum and zero dampening\u001b[39m\u001b[38;5;124m\"\u001b[39m)\n\u001b[0;32m---> 26\u001b[0m \u001b[38;5;28;43msuper\u001b[39;49m\u001b[43m(\u001b[49m\u001b[43m)\u001b[49m\u001b[38;5;241;43m.\u001b[39;49m\u001b[38;5;21;43m__init__\u001b[39;49m\u001b[43m(\u001b[49m\u001b[43mparams\u001b[49m\u001b[43m,\u001b[49m\u001b[43m \u001b[49m\u001b[43mdefaults\u001b[49m\u001b[43m)\u001b[49m\n",
      "File \u001b[0;32m/orfeo/cephfs/home/dssc/acesa000/cv_env/lib/python3.10/site-packages/torch/optim/optimizer.py:261\u001b[0m, in \u001b[0;36mOptimizer.__init__\u001b[0;34m(self, params, defaults)\u001b[0m\n\u001b[1;32m    259\u001b[0m param_groups \u001b[38;5;241m=\u001b[39m \u001b[38;5;28mlist\u001b[39m(params)\n\u001b[1;32m    260\u001b[0m \u001b[38;5;28;01mif\u001b[39;00m \u001b[38;5;28mlen\u001b[39m(param_groups) \u001b[38;5;241m==\u001b[39m \u001b[38;5;241m0\u001b[39m:\n\u001b[0;32m--> 261\u001b[0m     \u001b[38;5;28;01mraise\u001b[39;00m \u001b[38;5;167;01mValueError\u001b[39;00m(\u001b[38;5;124m\"\u001b[39m\u001b[38;5;124moptimizer got an empty parameter list\u001b[39m\u001b[38;5;124m\"\u001b[39m)\n\u001b[1;32m    262\u001b[0m \u001b[38;5;28;01mif\u001b[39;00m \u001b[38;5;129;01mnot\u001b[39;00m \u001b[38;5;28misinstance\u001b[39m(param_groups[\u001b[38;5;241m0\u001b[39m], \u001b[38;5;28mdict\u001b[39m):\n\u001b[1;32m    263\u001b[0m     param_groups \u001b[38;5;241m=\u001b[39m [{\u001b[38;5;124m'\u001b[39m\u001b[38;5;124mparams\u001b[39m\u001b[38;5;124m'\u001b[39m: param_groups}]\n",
      "\u001b[0;31mValueError\u001b[0m: optimizer got an empty parameter list"
     ]
    }
   ],
   "source": [
    "model = EnsembleModel()\n",
    "model.to(device)\n",
    "model.apply(init_weights)\n",
    "loss_function=nn.CrossEntropyLoss()\n",
    "optimizer=optim.SGD(model.parameters(),lr=0.01,momentum=0.9)"
   ]
  },
  {
   "cell_type": "code",
   "execution_count": null,
   "id": "5508c99c-df26-465c-84c6-372ee0154340",
   "metadata": {},
   "outputs": [],
   "source": [
    "model_path=train_model(model,augmented_train_loader,validation_loader,loss_function,optimizer,100,device)"
   ]
  },
  {
   "cell_type": "code",
   "execution_count": null,
   "id": "d1a02560-12a0-4518-8fa2-6753a3907d9c",
   "metadata": {},
   "outputs": [],
   "source": [
    "test_model(EnsembleModel(),model_path,test_loader,test,device)"
   ]
  },
  {
   "cell_type": "code",
   "execution_count": null,
   "id": "79d8ca50-e85b-4a55-9e5d-ecb1ac06e005",
   "metadata": {},
   "outputs": [],
   "source": [
    "!rm model*"
   ]
  },
  {
   "cell_type": "code",
   "execution_count": null,
   "id": "a2bda021-5197-4427-af4b-66bbbe27788f",
   "metadata": {},
   "outputs": [],
   "source": []
  }
 ],
 "metadata": {
  "kernelspec": {
   "display_name": "cv_env",
   "language": "python",
   "name": "cv_env"
  },
  "language_info": {
   "codemirror_mode": {
    "name": "ipython",
    "version": 3
   },
   "file_extension": ".py",
   "mimetype": "text/x-python",
   "name": "python",
   "nbconvert_exporter": "python",
   "pygments_lexer": "ipython3",
   "version": "3.10.10"
  }
 },
 "nbformat": 4,
 "nbformat_minor": 5
}
