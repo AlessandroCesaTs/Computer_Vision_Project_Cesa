{
  "cells": [
    {
      "cell_type": "markdown",
      "metadata": {
        "id": "deNAukgjtfVi"
      },
      "source": [
        "# COMPUTER VISION AND PATTERN RECOGNITION PROJECT\n",
        "## Alessandro Cesa"
      ]
    },
    {
      "cell_type": "code",
      "source": [
        "import torch\n",
        "from torch import nn\n",
        "import torch.optim as optim\n",
        "from torch.utils.data import DataLoader\n",
        "from torchvision.datasets import ImageFolder\n",
        "import torchvision\n",
        "import torchvision.transforms as transforms\n",
        "import matplotlib.pyplot as plt\n",
        "import numpy as np\n",
        "from datetime import datetime\n",
        "import copy"
      ],
      "metadata": {
        "id": "iVoqtZwXuNIP"
      },
      "execution_count": 1,
      "outputs": []
    },
    {
      "cell_type": "code",
      "source": [
        "%%capture\n",
        "!wget -c https://github.com/AlessandroCesaTs/Computer_Vision_Project_Cesa/archive/main/CVPR2023_project_2_and_3_data.zip\n",
        "!unzip CVPR2023_project_2_and_3_data.zip"
      ],
      "metadata": {
        "id": "GoBOGpT3rOhR"
      },
      "execution_count": 2,
      "outputs": []
    },
    {
      "cell_type": "code",
      "source": [
        "def get_default_device():\n",
        "    \"\"\"Pick GPU if available, else CPU\"\"\"\n",
        "    if torch.cuda.is_available():\n",
        "        return torch.device('cuda')\n",
        "    else:\n",
        "        return torch.device('cpu')\n",
        "\n",
        "def to_device(data, device):\n",
        "    \"\"\"Move tensor(s) to chosen device\"\"\"\n",
        "    if isinstance(data, (list,tuple)):\n",
        "        return [to_device(x, device) for x in data]\n",
        "    return data.to(device, non_blocking=True)\n",
        "\n",
        "class DeviceDataLoader():\n",
        "    \"\"\"Wrap a dataloader to move data to a device\"\"\"\n",
        "    def __init__(self, dl, device):\n",
        "        self.dl = dl\n",
        "        self.device = device\n",
        "\n",
        "    def __iter__(self):\n",
        "        \"\"\"Yield a batch of data after moving it to device\"\"\"\n",
        "        for b in self.dl:\n",
        "            yield to_device(b, self.device)\n",
        "\n",
        "    def __len__(self):\n",
        "        \"\"\"Number of batches\"\"\"\n",
        "        return len(self.dl)\n",
        "\n",
        "device = get_default_device()"
      ],
      "metadata": {
        "id": "kqu-mIXll27S"
      },
      "execution_count": 3,
      "outputs": []
    },
    {
      "cell_type": "code",
      "source": [
        "def resize_transformation(img):\n",
        "  resize = transforms.Compose([transforms.Resize([64,64]),\n",
        "  transforms.ToTensor(),transforms.Grayscale()])\n",
        "  i = resize(img)\n",
        "  i =i*255.0 #back to 0-255\n",
        "  return i"
      ],
      "metadata": {
        "id": "HPfXw9hLq9wM"
      },
      "execution_count": 4,
      "outputs": []
    },
    {
      "cell_type": "code",
      "source": [
        "train_path = \"Computer_Vision_Project_Cesa-main/CVPR2023_project_2_and_3_data/train\"\n",
        "test_path = \"Computer_Vision_Project_Cesa-main/CVPR2023_project_2_and_3_data/test\""
      ],
      "metadata": {
        "id": "jeMPqLb9rEHV"
      },
      "execution_count": 5,
      "outputs": []
    },
    {
      "cell_type": "code",
      "source": [
        "train=ImageFolder(root=train_path,transform=resize_transformation)\n",
        "test=ImageFolder(root=test_path,transform=resize_transformation)"
      ],
      "metadata": {
        "id": "2iv1AYrTrBr0"
      },
      "execution_count": 6,
      "outputs": []
    },
    {
      "cell_type": "code",
      "source": [],
      "metadata": {
        "id": "SSOFuGBdrXjf"
      },
      "execution_count": 6,
      "outputs": []
    },
    {
      "cell_type": "code",
      "source": [
        "#build the network\n",
        "\n",
        "class simpleCNN(nn.Module):\n",
        "  def __init__(self):\n",
        "    super(simpleCNN,self).__init__() #initialize the model\n",
        "\n",
        "    self.conv1=nn.Conv2d(in_channels=1,out_channels=8,kernel_size=3,stride=1) #Output image size is (size+2*padding-kernel)/stride -->62*62\n",
        "    self.relu1=nn.ReLU()\n",
        "    self.maxpool1=nn.MaxPool2d(kernel_size=2,stride=2) #outtput image 62/2-->31*31\n",
        "\n",
        "    self.conv2=nn.Conv2d(in_channels=8,out_channels=16,kernel_size=3,stride=1) #output image is 29*29\n",
        "    self.relu2=nn.ReLU()\n",
        "    self.maxpool2=nn.MaxPool2d(kernel_size=2,stride=2) #output image is 29/2-->14*14  (MaxPool2d approximates size with floor)\n",
        "\n",
        "    self.conv3=nn.Conv2d(in_channels=16,out_channels=32,kernel_size=3,stride=1) #output image is 12*12\n",
        "    self.relu3=nn.ReLU()\n",
        "\n",
        "    self.fc1=nn.Linear(32*12*12,15) #16 channels * 16*16 image (64*64 with 2 maxpooling of stride 2), 15 output features=15 classes\n",
        "\n",
        "  def forward(self,x):\n",
        "    x=self.conv1(x)\n",
        "    x=self.relu1(x)\n",
        "    x=self.maxpool1(x)\n",
        "\n",
        "    x=self.conv2(x)\n",
        "    x=self.relu2(x)\n",
        "    x=self.maxpool2(x)\n",
        "\n",
        "    x=self.conv3(x)\n",
        "    x=self.relu3(x)\n",
        "\n",
        "    x=x.view(-1,32*12*12)\n",
        "\n",
        "    x=self.fc1(x)\n",
        "\n",
        "    return x"
      ],
      "metadata": {
        "id": "L1x9xWyDC9zf"
      },
      "execution_count": 7,
      "outputs": []
    },
    {
      "cell_type": "code",
      "source": [
        "def init_weights(m):\n",
        "  if isinstance(m,nn.Conv2d) or isinstance(m,nn.Linear):\n",
        "    nn.init.normal_(m.weight,0,0.01)\n",
        "    nn.init.zeros_(m.bias)"
      ],
      "metadata": {
        "id": "_y_xqA2erh2O"
      },
      "execution_count": 8,
      "outputs": []
    },
    {
      "cell_type": "code",
      "source": [
        "def train_one_epoch(epoch_index,loader):\n",
        "  running_loss=0\n",
        "\n",
        "  for i, data in enumerate(loader):\n",
        "\n",
        "    inputs,labels=data #get the minibatch\n",
        "    inputs, labels = inputs.cuda(), labels.cuda()\n",
        "\n",
        "    outputs=model(inputs) #forward pass\n",
        "\n",
        "    loss=loss_function(outputs,labels) #compute loss\n",
        "    running_loss+=loss.item() #sum up the loss for the minibatches processed so far\n",
        "\n",
        "    optimizer.zero_grad() #reset gradients\n",
        "    loss.backward() #compute gradient\n",
        "    optimizer.step() #update weights\n",
        "\n",
        "  return running_loss/(i+1) # average loss per minibatch\n"
      ],
      "metadata": {
        "id": "mtZsV6OaObQE"
      },
      "execution_count": 9,
      "outputs": []
    },
    {
      "cell_type": "code",
      "source": [
        "%%capture\n",
        "\"\"\"\n",
        "# check the dataset size\n",
        "print(f\"Train size: {len(train)}\")\n",
        "print(f\"Test size: {len(test)}\")\n",
        "print(train.classes)\n",
        "\"\"\""
      ],
      "metadata": {
        "id": "_JlXUUI3vwSu"
      },
      "execution_count": 10,
      "outputs": []
    },
    {
      "cell_type": "code",
      "source": [
        "%%capture\n",
        "\"\"\"\n",
        "# get image no. 1 and its label\n",
        "index=1\n",
        "img,label=train[index]\n",
        "\n",
        "print(f\"label: {label}\")\n",
        "\n",
        "print(\"class: \" + train.classes[label])\n",
        "# display\n",
        "figure = plt.figure()\n",
        "plt.imshow(img.numpy().transpose((1, 2, 0)),cmap='gray') #<< swap axes because img is (3,H,W) but imshow() expects (H,W,3)\n",
        "\"\"\""
      ],
      "metadata": {
        "id": "2DiM9d42wmSr"
      },
      "execution_count": 11,
      "outputs": []
    },
    {
      "cell_type": "code",
      "source": [
        "np.random.seed(123)\n",
        "torch.manual_seed(123)\n",
        "torch.backends.cudnn.deterministic = True\n",
        "torch.backends.cudnn.benchmark = False\n",
        "if device.type == 'cuda':\n",
        "    torch.cuda.empty_cache()"
      ],
      "metadata": {
        "id": "bATnw0T7jNzG"
      },
      "execution_count": 12,
      "outputs": []
    },
    {
      "cell_type": "code",
      "source": [
        "#split training set into training and validation\n",
        "train_size=int(0.85*len(train))\n",
        "validation_size=len(train)-train_size\n",
        "training_set,validation_set=torch.utils.data.random_split(train,[train_size,validation_size])"
      ],
      "metadata": {
        "id": "4-l_t3qJZ-Nh"
      },
      "execution_count": 13,
      "outputs": []
    },
    {
      "cell_type": "code",
      "source": [
        "# Create data loaders.\n",
        "# Data loaders are basically objects that make easy to iterate through the data by batches of some batch_size\n",
        "batch_size = 32\n",
        "train_loader = DataLoader(training_set, batch_size=batch_size,shuffle=True,pin_memory=True)\n",
        "validation_loader = DataLoader(validation_set, batch_size=batch_size,shuffle=False,pin_memory=True)\n",
        "test_loader = DataLoader(test, batch_size=batch_size,shuffle=False,pin_memory=True)"
      ],
      "metadata": {
        "id": "vrP9U-0_xAFt"
      },
      "execution_count": 14,
      "outputs": []
    },
    {
      "cell_type": "code",
      "source": [
        "train_loader = DeviceDataLoader(train_loader, device)\n",
        "validation_loader = DeviceDataLoader(validation_loader, device)\n",
        "test_loader = DeviceDataLoader(test_loader, device)"
      ],
      "metadata": {
        "id": "1fqAkH1ymz_2"
      },
      "execution_count": 15,
      "outputs": []
    },
    {
      "cell_type": "code",
      "source": [
        "%%capture\n",
        "\"\"\"\n",
        "for X, y in test_loader:\n",
        "    print(f\"Shape of X [N, C, H, W]: {X.shape}\")\n",
        "    print(f\"Shape of y: {y.shape} {y.dtype}\")\n",
        "    break\n",
        "\"\"\""
      ],
      "metadata": {
        "id": "WM2EaWwThQ2R"
      },
      "execution_count": 16,
      "outputs": []
    },
    {
      "cell_type": "code",
      "source": [
        "%%capture\n",
        "\"\"\"\n",
        "# get a batch from the training set\n",
        "dataiter = iter(train_loader)\n",
        "images, labels = next(dataiter)   #images is a (batch_size,3,32,32) tensor\n",
        "\n",
        "print(images.size())\n",
        "\"\"\""
      ],
      "metadata": {
        "id": "BEk6bHPAYbsd"
      },
      "execution_count": 17,
      "outputs": []
    },
    {
      "cell_type": "code",
      "source": [
        "%%capture\n",
        "\"\"\"\n",
        "classes=train.classes\n",
        "\n",
        "# get a batch from the training set\n",
        "dataiter = iter(train_loader)\n",
        "images, labels = next(dataiter)   #images is a (batch_size,3,32,32) tensor\n",
        "\n",
        "print(images.size())\n",
        "\n",
        "img=torchvision.utils.make_grid(images)\n",
        "figure = plt.figure()\n",
        "plt.imshow(img.numpy().transpose((1, 2, 0)).astype(np.uint8),cmap='gray') #<< swap axes because img is (3,H,W) but imshow() expects (H,W,3)\n",
        "\n",
        "print(' '.join(f'{classes[labels[j]]:5s}' for j in range(batch_size)))\n",
        "\"\"\""
      ],
      "metadata": {
        "id": "z7KAxE7y0Ekw"
      },
      "execution_count": 18,
      "outputs": []
    },
    {
      "cell_type": "code",
      "source": [
        "%%capture\n",
        "\"\"\"\n",
        "# display the last image only\n",
        "figure = plt.figure()\n",
        "plt.imshow(images[-1,:,:,:].numpy().transpose((1,2,0)),cmap='gray')\n",
        "print(f'{train.classes[labels[-1]]:5s}')\n",
        "\"\"\""
      ],
      "metadata": {
        "id": "KZz7Kvl1Cl9H"
      },
      "execution_count": 19,
      "outputs": []
    },
    {
      "cell_type": "code",
      "source": [
        "# Instantiate the model\n",
        "model = simpleCNN()\n",
        "model.to(device)\n",
        "model.apply(init_weights)\n",
        "loss_function=nn.CrossEntropyLoss()\n",
        "optimizer=optim.SGD(model.parameters(),lr=0.001,momentum=0.9)\n",
        "# Print the model summary\n",
        "#print(model)"
      ],
      "metadata": {
        "id": "jd6KkyUaN8xT"
      },
      "execution_count": 20,
      "outputs": []
    },
    {
      "cell_type": "code",
      "source": [
        "EPOCHS=15\n",
        "\n",
        "best_validation_loss=np.inf\n",
        "\n",
        "train_losses = []\n",
        "validation_losses = []\n",
        "validation_accuracies = []\n",
        "\n",
        "for epoch in range(EPOCHS):\n",
        "  print('EPOCH{}:'.format(epoch+1))\n",
        "\n",
        "  model.train(True)\n",
        "  train_loss=train_one_epoch(epoch,train_loader)\n",
        "\n",
        "  running_validation_loss=0.0\n",
        "\n",
        "  model.eval()\n",
        "\n",
        "  with torch.no_grad(): # Disable gradient computation and reduce memory consumption\n",
        "    correct=0\n",
        "    total=0\n",
        "    for i,vdata in enumerate(validation_loader):\n",
        "      vinputs,vlabels=vdata\n",
        "      voutputs=model(vinputs)\n",
        "      _,predicted=torch.max(voutputs.data,1)\n",
        "      vloss=loss_function(voutputs,vlabels)\n",
        "      running_validation_loss+=vloss\n",
        "      total+=vlabels.size(0)\n",
        "      correct+=(predicted==vlabels).sum().item()\n",
        "  validation_loss=running_validation_loss/(i+1)\n",
        "  validation_acc = 100*correct/total\n",
        "  print(f'LOSS train: {train_loss} validation: {validation_loss} | validation_accuracy: {validation_acc}% ')\n",
        "\n",
        "  if validation_loss<best_validation_loss: #save the model if it's the best so far\n",
        "    timestamp=datetime.now().strftime('%Y%m%d_%H%M%S')\n",
        "    best_validation_loss=validation_loss\n",
        "    model_path='model_{}_{}'.format(timestamp,epoch)\n",
        "    torch.save(model.state_dict(),model_path)\n",
        "\n",
        "  train_losses.append(train_loss)\n",
        "  validation_losses.append(validation_loss)\n",
        "  validation_accuracies.append(validation_acc)\n",
        "\n",
        "\n",
        "plt.plot(train_losses, color='tab:red', linewidth=3, label='train loss')\n",
        "validation_losses_np = torch.stack(validation_losses).cpu().numpy() #move validation losses to cpu to plot with matplotlib\n",
        "plt.plot(validation_losses_np, color='tab:green', linewidth=3, label='validation loss')\n",
        "plt.xlabel('Epoch')\n",
        "plt.ylabel('CE loss')\n",
        "\n",
        "ax_right = plt.gca().twinx()\n",
        "#validation_accuracies_np = torch.stack(validation_accuracies).cpu().numpy() #move validation accuracies to cpu to plot with matplotlib\n",
        "ax_right.plot(validation_accuracies, color='tab:green', linestyle='--', label='validation accuracy')\n",
        "ax_right.set_ylabel('accuracy (%)')\n",
        "\n",
        "plt.gcf().legend(ncol=3)\n",
        "plt.gcf().set_size_inches(6, 3)\n"
      ],
      "metadata": {
        "id": "IsYPqxOHZSYe",
        "outputId": "c2db5c9f-9852-430e-ec35-91da4cfc65b4",
        "colab": {
          "base_uri": "https://localhost:8080/",
          "height": 861
        }
      },
      "execution_count": 21,
      "outputs": [
        {
          "output_type": "stream",
          "name": "stdout",
          "text": [
            "EPOCH1:\n",
            "LOSS train: 2.7080280065536497 validation: 2.707507610321045 | validation_accuracy: 6.666666666666667% \n",
            "EPOCH2:\n",
            "LOSS train: 2.7064559876918795 validation: 2.705883026123047 | validation_accuracy: 5.777777777777778% \n",
            "EPOCH3:\n",
            "LOSS train: 2.700666534900665 validation: 2.6924655437469482 | validation_accuracy: 7.555555555555555% \n",
            "EPOCH4:\n",
            "LOSS train: 2.6834333658218386 validation: 2.641897201538086 | validation_accuracy: 12.0% \n",
            "EPOCH5:\n",
            "LOSS train: 2.651807487010956 validation: 2.6364219188690186 | validation_accuracy: 10.222222222222221% \n",
            "EPOCH6:\n",
            "LOSS train: 2.5934670209884643 validation: 2.491793632507324 | validation_accuracy: 15.555555555555555% \n",
            "EPOCH7:\n",
            "LOSS train: 2.58232986330986 validation: 2.550381660461426 | validation_accuracy: 14.222222222222221% \n",
            "EPOCH8:\n",
            "LOSS train: 2.496866595745087 validation: 2.5013370513916016 | validation_accuracy: 14.222222222222221% \n",
            "EPOCH9:\n",
            "LOSS train: 2.4514476001262664 validation: 2.4652066230773926 | validation_accuracy: 16.0% \n",
            "EPOCH10:\n",
            "LOSS train: 2.3716245770454405 validation: 2.487762689590454 | validation_accuracy: 20.0% \n",
            "EPOCH11:\n",
            "LOSS train: 2.2424958139657973 validation: 2.4583122730255127 | validation_accuracy: 24.444444444444443% \n",
            "EPOCH12:\n",
            "LOSS train: 2.026124668121338 validation: 2.6393136978149414 | validation_accuracy: 22.666666666666668% \n",
            "EPOCH13:\n",
            "LOSS train: 1.950381976366043 validation: 2.2573511600494385 | validation_accuracy: 30.666666666666668% \n",
            "EPOCH14:\n",
            "LOSS train: 1.7647242158651353 validation: 2.4220118522644043 | validation_accuracy: 29.333333333333332% \n",
            "EPOCH15:\n",
            "LOSS train: 1.6863276690244675 validation: 2.3855152130126953 | validation_accuracy: 29.77777777777778% \n"
          ]
        },
        {
          "output_type": "display_data",
          "data": {
            "text/plain": [
              "<Figure size 600x300 with 2 Axes>"
            ],
            "image/png": "[encoded data removed]"
          },
          "metadata": {}
        }
      ]
    },
    {
      "cell_type": "code",
      "source": [
        "#load the best model and evaluate performance on the test set\n",
        "\n",
        "newModel=simpleCNN()\n",
        "newModel.to(device)\n",
        "newModel.load_state_dict(torch.load(model_path))\n",
        "\n",
        "correct=0\n",
        "total=0\n",
        "\n",
        "with torch.no_grad():\n",
        "  for data in test_loader:\n",
        "    images,labels=data\n",
        "    images, labels = images.cuda(), labels.cuda()\n",
        "    outputs=newModel(images)\n",
        "    _,predicted=torch.max(outputs.data,1)\n",
        "    total+=labels.size(0)\n",
        "    correct+=(predicted==labels).sum().item()\n",
        "\n",
        "print(f\"Accuracy of the network on the test images: {100*correct/total}%\")"
      ],
      "metadata": {
        "colab": {
          "base_uri": "https://localhost:8080/"
        },
        "id": "x2dkz4xPlcoO",
        "outputId": "a32409b9-1812-49e2-f194-3111cccf75c5"
      },
      "execution_count": 22,
      "outputs": [
        {
          "output_type": "stream",
          "name": "stdout",
          "text": [
            "Accuracy of the network on the test images: 26.934673366834172%\n"
          ]
        }
      ]
    },
    {
      "cell_type": "code",
      "source": [
        "!rm model*"
      ],
      "metadata": {
        "id": "PjatLYtua_Fb"
      },
      "execution_count": 23,
      "outputs": []
    }
  ],
  "metadata": {
    "language_info": {
      "name": "python"
    },
    "colab": {
      "provenance": [],
      "gpuType": "T4"
    },
    "kernelspec": {
      "name": "python3",
      "display_name": "Python 3"
    },
    "accelerator": "GPU"
  },
  "nbformat": 4,
  "nbformat_minor": 0
}