{
 "cells": [
  {
   "cell_type": "markdown",
   "id": "f8ec6d38-4f90-43c0-82aa-ff07a93138b1",
   "metadata": {},
   "source": [
    "# COMPUTER VISION AND PATTERN RECOGNITION PROJECT\n",
    "## Task 3 second approach\n",
    "## Alessandro Cesa"
   ]
  },
  {
   "cell_type": "markdown",
   "id": "88990f20-8cff-4176-b0ac-c05c5bddad71",
   "metadata": {},
   "source": [
    "This Notebook contains the code for the first approach to task 3 of the project.\n",
    "\n",
    "At first the necessary libraries have to be imported."
   ]
  },
  {
   "cell_type": "code",
   "execution_count": 1,
   "id": "c25577d9-7232-4239-a215-6a0156e3dc54",
   "metadata": {},
   "outputs": [],
   "source": [
    "import torch.optim as optim\n",
    "from torch.utils.data import DataLoader,ConcatDataset\n",
    "from torchvision.datasets import ImageFolder\n",
    "from torchvision import models\n",
    "from torchvision.models.alexnet import AlexNet_Weights\n",
    "from sklearn.svm import LinearSVC"
   ]
  },
  {
   "cell_type": "code",
   "execution_count": 2,
   "id": "16fe00d9-e54d-4b77-81bf-0e344ab0a6d1",
   "metadata": {},
   "outputs": [],
   "source": [
    "#Adjust according to your path\n",
    "import sys\n",
    "sys.path.append('/orfeo/cephfs/home/dssc/acesa000/Computer_Vision_Project_Cesa/functions') #Adjust according to your path\n",
    "\n",
    "from image_handling_functions import *\n",
    "from train_test_functions import *\n",
    "from neural_networks import *"
   ]
  },
  {
   "cell_type": "markdown",
   "id": "23fe87fb-8673-4798-9876-20dccb1c174c",
   "metadata": {},
   "source": [
    "Then we'll load the dataset"
   ]
  },
  {
   "cell_type": "code",
   "execution_count": 3,
   "id": "fa459a67-cce6-4d3e-89be-6a431b7e722e",
   "metadata": {},
   "outputs": [],
   "source": [
    "%%capture \n",
    "#Run if you don't already have the dataset\n",
    "\"\"\"\n",
    "!git clone https://github.com/AlessandroCesaTs/Computer_Vision_Project_Cesa.git\n",
    "\"\"\""
   ]
  },
  {
   "cell_type": "code",
   "execution_count": 4,
   "id": "5a74b6e3-0309-42aa-88de-90359b73625d",
   "metadata": {},
   "outputs": [],
   "source": [
    "#Adjust according to your path\n",
    "train_path = \"/orfeo/cephfs/home/dssc/acesa000/Computer_Vision_Project_Cesa/CVPR2023_project_2_and_3_data/train\"\n",
    "test_path = \"/orfeo/cephfs/home/dssc/acesa000/Computer_Vision_Project_Cesa/CVPR2023_project_2_and_3_data/test\""
   ]
  },
  {
   "cell_type": "markdown",
   "id": "4ce0e993-61bc-42f8-909b-9d7232dc847e",
   "metadata": {},
   "source": [
    "We get the device (CPU or GPU)"
   ]
  },
  {
   "cell_type": "code",
   "execution_count": 5,
   "id": "525ebb65-837e-4805-92df-aa3e221939f1",
   "metadata": {},
   "outputs": [],
   "source": [
    "device = get_default_device()"
   ]
  },
  {
   "cell_type": "markdown",
   "id": "291bf993-0ef3-4229-8f29-8eee2e7ad37c",
   "metadata": {},
   "source": [
    "Set the seeds for reproducibility"
   ]
  },
  {
   "cell_type": "code",
   "execution_count": 6,
   "id": "90455d44-c35a-4026-9e96-7c403477f07a",
   "metadata": {},
   "outputs": [],
   "source": [
    "np.random.seed(123)\n",
    "torch.manual_seed(123)\n",
    "torch.backends.cudnn.deterministic = True\n",
    "torch.backends.cudnn.benchmark = False\n",
    "if device.type == 'cuda':\n",
    "    torch.cuda.empty_cache()"
   ]
  },
  {
   "cell_type": "markdown",
   "id": "3fc75e51-32ff-4c9a-9f01-3dedc4d2bbf5",
   "metadata": {},
   "source": [
    "The data sets have to be transformed, using the ImageFolder function"
   ]
  },
  {
   "cell_type": "code",
   "execution_count": 7,
   "id": "02362a69-6238-4860-9b42-4116abe4e74f",
   "metadata": {},
   "outputs": [],
   "source": [
    "train=ImageFolder(root=train_path,transform=transformation_for_AlexNet)\n",
    "test=ImageFolder(root=test_path,transform=transformation_for_AlexNet)"
   ]
  },
  {
   "cell_type": "markdown",
   "id": "9bf0e8f5-e652-4ee4-ac8a-58bf3fe95f8c",
   "metadata": {},
   "source": [
    "We'll now create the Data Loaders, and perform data augmentation."
   ]
  },
  {
   "cell_type": "code",
   "execution_count": 8,
   "id": "d4650949-cbd7-413c-a34b-901b86be962a",
   "metadata": {},
   "outputs": [],
   "source": [
    "batch_size = 32\n",
    "\n",
    "augmented_train=TransformedDataSet(train)\n",
    "concatenated_dataset = torch.utils.data.ConcatDataset([train, augmented_train])\n",
    "train_loader = DataLoader(concatenated_dataset, batch_size=batch_size,shuffle=True,pin_memory=True)\n",
    "\n",
    "test_loader = DataLoader(test, batch_size=batch_size,shuffle=False,pin_memory=True)\n",
    "\n",
    "train_loader = DeviceDataLoader(train_loader, device)\n",
    "test_loader = DeviceDataLoader(test_loader, device)"
   ]
  },
  {
   "cell_type": "markdown",
   "id": "ed3f8c2f-603f-4706-9c0f-1121c0eb95ca",
   "metadata": {},
   "source": [
    "Now we'll first extract the features using AlexNet"
   ]
  },
  {
   "cell_type": "code",
   "execution_count": 9,
   "id": "27d5250a-d33f-46b4-a587-a03b119647c5",
   "metadata": {},
   "outputs": [],
   "source": [
    "model=models.alexnet(weights=AlexNet_Weights.DEFAULT).to(device)\n",
    "for param in model.parameters():\n",
    "    param.requires_grad = False"
   ]
  },
  {
   "cell_type": "code",
   "execution_count": 10,
   "id": "6c94418b-b27a-46b4-a28d-8b389c426cd6",
   "metadata": {},
   "outputs": [
    {
     "name": "stdout",
     "output_type": "stream",
     "text": [
      "Time for extraction: 7.312652349472046\n",
      "Time for extraction: 6.785296201705933\n"
     ]
    }
   ],
   "source": [
    "train_features,train_labels=extract_for_svm(model,train_loader,device)\n",
    "test_features,test_labels=extract_for_svm(model,test_loader,device)"
   ]
  },
  {
   "cell_type": "markdown",
   "id": "0376323b-6eff-439b-b122-c5cd83cc2852",
   "metadata": {},
   "source": [
    "And then feed those features to a Support Vector Machine"
   ]
  },
  {
   "cell_type": "code",
   "execution_count": 11,
   "id": "03ed8709-cff9-4c7e-954a-161ae6f59418",
   "metadata": {},
   "outputs": [],
   "source": [
    "svm=LinearSVC(random_state=123)"
   ]
  },
  {
   "cell_type": "code",
   "execution_count": 12,
   "id": "9f600cc5-d838-4b5c-8769-ea19ef1af8dd",
   "metadata": {},
   "outputs": [
    {
     "name": "stderr",
     "output_type": "stream",
     "text": [
      "/orfeo/cephfs/home/dssc/acesa000/cv_env/lib/python3.10/site-packages/sklearn/svm/_classes.py:32: FutureWarning: The default value of `dual` will change from `True` to `'auto'` in 1.5. Set the value of `dual` explicitly to suppress the warning.\n",
      "  warnings.warn(\n"
     ]
    },
    {
     "name": "stdout",
     "output_type": "stream",
     "text": [
      "CPU times: user 8.32 s, sys: 12 ms, total: 8.33 s\n",
      "Wall time: 8.35 s\n"
     ]
    },
    {
     "name": "stderr",
     "output_type": "stream",
     "text": [
      "/orfeo/cephfs/home/dssc/acesa000/cv_env/lib/python3.10/site-packages/sklearn/svm/_base.py:1250: ConvergenceWarning: Liblinear failed to converge, increase the number of iterations.\n",
      "  warnings.warn(\n"
     ]
    },
    {
     "data": {
      "text/html": [
       "<style>#sk-container-id-1 {color: black;}#sk-container-id-1 pre{padding: 0;}#sk-container-id-1 div.sk-toggleable {background-color: white;}#sk-container-id-1 label.sk-toggleable__label {cursor: pointer;display: block;width: 100%;margin-bottom: 0;padding: 0.3em;box-sizing: border-box;text-align: center;}#sk-container-id-1 label.sk-toggleable__label-arrow:before {content: \"▸\";float: left;margin-right: 0.25em;color: #696969;}#sk-container-id-1 label.sk-toggleable__label-arrow:hover:before {color: black;}#sk-container-id-1 div.sk-estimator:hover label.sk-toggleable__label-arrow:before {color: black;}#sk-container-id-1 div.sk-toggleable__content {max-height: 0;max-width: 0;overflow: hidden;text-align: left;background-color: #f0f8ff;}#sk-container-id-1 div.sk-toggleable__content pre {margin: 0.2em;color: black;border-radius: 0.25em;background-color: #f0f8ff;}#sk-container-id-1 input.sk-toggleable__control:checked~div.sk-toggleable__content {max-height: 200px;max-width: 100%;overflow: auto;}#sk-container-id-1 input.sk-toggleable__control:checked~label.sk-toggleable__label-arrow:before {content: \"▾\";}#sk-container-id-1 div.sk-estimator input.sk-toggleable__control:checked~label.sk-toggleable__label {background-color: #d4ebff;}#sk-container-id-1 div.sk-label input.sk-toggleable__control:checked~label.sk-toggleable__label {background-color: #d4ebff;}#sk-container-id-1 input.sk-hidden--visually {border: 0;clip: rect(1px 1px 1px 1px);clip: rect(1px, 1px, 1px, 1px);height: 1px;margin: -1px;overflow: hidden;padding: 0;position: absolute;width: 1px;}#sk-container-id-1 div.sk-estimator {font-family: monospace;background-color: #f0f8ff;border: 1px dotted black;border-radius: 0.25em;box-sizing: border-box;margin-bottom: 0.5em;}#sk-container-id-1 div.sk-estimator:hover {background-color: #d4ebff;}#sk-container-id-1 div.sk-parallel-item::after {content: \"\";width: 100%;border-bottom: 1px solid gray;flex-grow: 1;}#sk-container-id-1 div.sk-label:hover label.sk-toggleable__label {background-color: #d4ebff;}#sk-container-id-1 div.sk-serial::before {content: \"\";position: absolute;border-left: 1px solid gray;box-sizing: border-box;top: 0;bottom: 0;left: 50%;z-index: 0;}#sk-container-id-1 div.sk-serial {display: flex;flex-direction: column;align-items: center;background-color: white;padding-right: 0.2em;padding-left: 0.2em;position: relative;}#sk-container-id-1 div.sk-item {position: relative;z-index: 1;}#sk-container-id-1 div.sk-parallel {display: flex;align-items: stretch;justify-content: center;background-color: white;position: relative;}#sk-container-id-1 div.sk-item::before, #sk-container-id-1 div.sk-parallel-item::before {content: \"\";position: absolute;border-left: 1px solid gray;box-sizing: border-box;top: 0;bottom: 0;left: 50%;z-index: -1;}#sk-container-id-1 div.sk-parallel-item {display: flex;flex-direction: column;z-index: 1;position: relative;background-color: white;}#sk-container-id-1 div.sk-parallel-item:first-child::after {align-self: flex-end;width: 50%;}#sk-container-id-1 div.sk-parallel-item:last-child::after {align-self: flex-start;width: 50%;}#sk-container-id-1 div.sk-parallel-item:only-child::after {width: 0;}#sk-container-id-1 div.sk-dashed-wrapped {border: 1px dashed gray;margin: 0 0.4em 0.5em 0.4em;box-sizing: border-box;padding-bottom: 0.4em;background-color: white;}#sk-container-id-1 div.sk-label label {font-family: monospace;font-weight: bold;display: inline-block;line-height: 1.2em;}#sk-container-id-1 div.sk-label-container {text-align: center;}#sk-container-id-1 div.sk-container {/* jupyter's `normalize.less` sets `[hidden] { display: none; }` but bootstrap.min.css set `[hidden] { display: none !important; }` so we also need the `!important` here to be able to override the default hidden behavior on the sphinx rendered scikit-learn.org. See: https://github.com/scikit-learn/scikit-learn/issues/21755 */display: inline-block !important;position: relative;}#sk-container-id-1 div.sk-text-repr-fallback {display: none;}</style><div id=\"sk-container-id-1\" class=\"sk-top-container\"><div class=\"sk-text-repr-fallback\"><pre>LinearSVC(random_state=123)</pre><b>In a Jupyter environment, please rerun this cell to show the HTML representation or trust the notebook. <br />On GitHub, the HTML representation is unable to render, please try loading this page with nbviewer.org.</b></div><div class=\"sk-container\" hidden><div class=\"sk-item\"><div class=\"sk-estimator sk-toggleable\"><input class=\"sk-toggleable__control sk-hidden--visually\" id=\"sk-estimator-id-1\" type=\"checkbox\" checked><label for=\"sk-estimator-id-1\" class=\"sk-toggleable__label sk-toggleable__label-arrow\">LinearSVC</label><div class=\"sk-toggleable__content\"><pre>LinearSVC(random_state=123)</pre></div></div></div></div></div>"
      ],
      "text/plain": [
       "LinearSVC(random_state=123)"
      ]
     },
     "execution_count": 12,
     "metadata": {},
     "output_type": "execute_result"
    }
   ],
   "source": [
    "%%time\n",
    "svm.fit(train_features,train_labels)"
   ]
  },
  {
   "cell_type": "code",
   "execution_count": 13,
   "id": "55bbd22c-2bce-4f30-a248-7ae0aec82059",
   "metadata": {},
   "outputs": [
    {
     "name": "stdout",
     "output_type": "stream",
     "text": [
      "Accuracy on test images is 0.7963149078726968\n"
     ]
    },
    {
     "data": {
      "image/png": "[encoded data removed]",
      "text/plain": [
       "<Figure size 500x500 with 2 Axes>"
      ]
     },
     "metadata": {},
     "output_type": "display_data"
    }
   ],
   "source": [
    "test_svm(svm,test_features,test_labels,test)"
   ]
  },
  {
   "cell_type": "code",
   "execution_count": null,
   "id": "1902977d-d87a-496e-ad1f-c4125da69388",
   "metadata": {},
   "outputs": [],
   "source": []
  }
 ],
 "metadata": {
  "kernelspec": {
   "display_name": "cv_env",
   "language": "python",
   "name": "cv_env"
  },
  "language_info": {
   "codemirror_mode": {
    "name": "ipython",
    "version": 3
   },
   "file_extension": ".py",
   "mimetype": "text/x-python",
   "name": "python",
   "nbconvert_exporter": "python",
   "pygments_lexer": "ipython3",
   "version": "3.10.10"
  }
 },
 "nbformat": 4,
 "nbformat_minor": 5
}
